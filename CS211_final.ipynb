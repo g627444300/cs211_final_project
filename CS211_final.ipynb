{
 "cells": [
  {
   "cell_type": "markdown",
   "id": "a800320f",
   "metadata": {},
   "source": [
    "# CS211: Data Privacy - Final Project\n",
    "## Haoyuan Pang, Chongqing Gao, Ke Tian"
   ]
  },
  {
   "cell_type": "code",
   "execution_count": 85,
   "id": "afdbe95b",
   "metadata": {},
   "outputs": [],
   "source": [
    "# Load the data and libraries\n",
    "import pandas as pd\n",
    "import numpy as np\n",
    "import random\n",
    "import math\n",
    "from datetime import datetime\n",
    "\n",
    "from scipy import stats\n",
    "import matplotlib.pyplot as plt\n",
    "plt.style.use('seaborn-whitegrid')\n",
    "\n",
    "def laplace_mech(v, sensitivity, epsilon):\n",
    "    return v + np.random.laplace(loc=0, scale=sensitivity / epsilon)\n",
    "\n",
    "def laplace_mech_vec(vec, sensitivity, epsilon):\n",
    "    return [v + np.random.laplace(loc=0, scale=sensitivity / epsilon) for v in vec]\n",
    "\n",
    "def gaussian_mech(v, sensitivity, epsilon, delta):\n",
    "    return v + np.random.normal(loc=0, scale=sensitivity * np.sqrt(2*np.log(1.25/delta)) / epsilon)\n",
    "\n",
    "def gaussian_mech_vec(vec, sensitivity, epsilon, delta):\n",
    "    return [v + np.random.normal(loc=0, scale=sensitivity * np.sqrt(2*np.log(1.25/delta)) / epsilon)\n",
    "            for v in vec]\n",
    "\n",
    "def gaussian_mech_RDP_vec(vec, sensitivity, alpha, epsilon):\n",
    "    sigma = np.sqrt((sensitivity**2 * alpha) / (2 * epsilon))\n",
    "    return [v + np.random.normal(loc=0, scale=sigma) for v in vec]\n",
    "\n",
    "def pct_error(orig, priv):\n",
    "    return np.abs(orig - priv)/orig * 100.0\n",
    "\n",
    "# compas_scores_raw = pd.read_csv('https://raw.github.com/g627444300/cs211-final_project/main/compas-scores-raw.csv')\n",
    "\n",
    "adult = pd.read_csv('https://raw.github.com/g627444300/cs211-final_project/main/cox-violent-parsed.csv')\n",
    "\n",
    "# cox_violent_parsed_filt = pd.read_csv('https://raw.github.com/g627444300/cs211-final_project/main/cox-violent-parsed_filt.csv')\n",
    "\n",
    "# df = pd.read_csv('https://raw.github.com/g627444300/cs211-final_project/main/propublica_data_for_fairml.csv')"
   ]
  },
  {
   "cell_type": "code",
   "execution_count": 22,
   "id": "ef40fb64",
   "metadata": {
    "scrolled": false
   },
   "outputs": [
    {
     "name": "stdout",
     "output_type": "stream",
     "text": [
      "<class 'pandas.core.frame.DataFrame'>\n"
     ]
    },
    {
     "data": {
      "text/html": [
       "<div>\n",
       "<style scoped>\n",
       "    .dataframe tbody tr th:only-of-type {\n",
       "        vertical-align: middle;\n",
       "    }\n",
       "\n",
       "    .dataframe tbody tr th {\n",
       "        vertical-align: top;\n",
       "    }\n",
       "\n",
       "    .dataframe thead th {\n",
       "        text-align: right;\n",
       "    }\n",
       "</style>\n",
       "<table border=\"1\" class=\"dataframe\">\n",
       "  <thead>\n",
       "    <tr style=\"text-align: right;\">\n",
       "      <th></th>\n",
       "      <th>id</th>\n",
       "      <th>name</th>\n",
       "      <th>first</th>\n",
       "      <th>last</th>\n",
       "      <th>compas_screening_date</th>\n",
       "      <th>sex</th>\n",
       "      <th>dob</th>\n",
       "      <th>age</th>\n",
       "      <th>age_cat</th>\n",
       "      <th>race</th>\n",
       "      <th>...</th>\n",
       "      <th>v_type_of_assessment</th>\n",
       "      <th>v_decile_score</th>\n",
       "      <th>v_score_text</th>\n",
       "      <th>v_screening_date</th>\n",
       "      <th>in_custody</th>\n",
       "      <th>out_custody</th>\n",
       "      <th>priors_count.1</th>\n",
       "      <th>start</th>\n",
       "      <th>end</th>\n",
       "      <th>event</th>\n",
       "    </tr>\n",
       "  </thead>\n",
       "  <tbody>\n",
       "    <tr>\n",
       "      <th>0</th>\n",
       "      <td>1.0</td>\n",
       "      <td>miguel hernandez</td>\n",
       "      <td>miguel</td>\n",
       "      <td>hernandez</td>\n",
       "      <td>14/08/2013</td>\n",
       "      <td>Male</td>\n",
       "      <td>18/04/1947</td>\n",
       "      <td>69</td>\n",
       "      <td>Greater than 45</td>\n",
       "      <td>Other</td>\n",
       "      <td>...</td>\n",
       "      <td>Risk of Violence</td>\n",
       "      <td>1</td>\n",
       "      <td>Low</td>\n",
       "      <td>14/08/2013</td>\n",
       "      <td>07/07/2014</td>\n",
       "      <td>14/07/2014</td>\n",
       "      <td>0</td>\n",
       "      <td>0</td>\n",
       "      <td>327</td>\n",
       "      <td>0</td>\n",
       "    </tr>\n",
       "    <tr>\n",
       "      <th>1</th>\n",
       "      <td>2.0</td>\n",
       "      <td>miguel hernandez</td>\n",
       "      <td>miguel</td>\n",
       "      <td>hernandez</td>\n",
       "      <td>14/08/2013</td>\n",
       "      <td>Male</td>\n",
       "      <td>18/04/1947</td>\n",
       "      <td>69</td>\n",
       "      <td>Greater than 45</td>\n",
       "      <td>Other</td>\n",
       "      <td>...</td>\n",
       "      <td>Risk of Violence</td>\n",
       "      <td>1</td>\n",
       "      <td>Low</td>\n",
       "      <td>14/08/2013</td>\n",
       "      <td>07/07/2014</td>\n",
       "      <td>14/07/2014</td>\n",
       "      <td>0</td>\n",
       "      <td>334</td>\n",
       "      <td>961</td>\n",
       "      <td>0</td>\n",
       "    </tr>\n",
       "    <tr>\n",
       "      <th>2</th>\n",
       "      <td>3.0</td>\n",
       "      <td>michael ryan</td>\n",
       "      <td>michael</td>\n",
       "      <td>ryan</td>\n",
       "      <td>31/12/2014</td>\n",
       "      <td>Male</td>\n",
       "      <td>06/02/1985</td>\n",
       "      <td>31</td>\n",
       "      <td>25 - 45</td>\n",
       "      <td>Caucasian</td>\n",
       "      <td>...</td>\n",
       "      <td>Risk of Violence</td>\n",
       "      <td>2</td>\n",
       "      <td>Low</td>\n",
       "      <td>31/12/2014</td>\n",
       "      <td>30/12/2014</td>\n",
       "      <td>03/01/2015</td>\n",
       "      <td>0</td>\n",
       "      <td>3</td>\n",
       "      <td>457</td>\n",
       "      <td>0</td>\n",
       "    </tr>\n",
       "    <tr>\n",
       "      <th>3</th>\n",
       "      <td>4.0</td>\n",
       "      <td>kevon dixon</td>\n",
       "      <td>kevon</td>\n",
       "      <td>dixon</td>\n",
       "      <td>27/01/2013</td>\n",
       "      <td>Male</td>\n",
       "      <td>22/01/1982</td>\n",
       "      <td>34</td>\n",
       "      <td>25 - 45</td>\n",
       "      <td>African-American</td>\n",
       "      <td>...</td>\n",
       "      <td>Risk of Violence</td>\n",
       "      <td>1</td>\n",
       "      <td>Low</td>\n",
       "      <td>27/01/2013</td>\n",
       "      <td>26/01/2013</td>\n",
       "      <td>05/02/2013</td>\n",
       "      <td>0</td>\n",
       "      <td>9</td>\n",
       "      <td>159</td>\n",
       "      <td>1</td>\n",
       "    </tr>\n",
       "    <tr>\n",
       "      <th>4</th>\n",
       "      <td>5.0</td>\n",
       "      <td>ed philo</td>\n",
       "      <td>ed</td>\n",
       "      <td>philo</td>\n",
       "      <td>14/04/2013</td>\n",
       "      <td>Male</td>\n",
       "      <td>14/05/1991</td>\n",
       "      <td>24</td>\n",
       "      <td>Less than 25</td>\n",
       "      <td>African-American</td>\n",
       "      <td>...</td>\n",
       "      <td>Risk of Violence</td>\n",
       "      <td>3</td>\n",
       "      <td>Low</td>\n",
       "      <td>14/04/2013</td>\n",
       "      <td>16/06/2013</td>\n",
       "      <td>16/06/2013</td>\n",
       "      <td>4</td>\n",
       "      <td>0</td>\n",
       "      <td>63</td>\n",
       "      <td>0</td>\n",
       "    </tr>\n",
       "  </tbody>\n",
       "</table>\n",
       "<p>5 rows × 52 columns</p>\n",
       "</div>"
      ],
      "text/plain": [
       "    id              name    first       last compas_screening_date   sex  \\\n",
       "0  1.0  miguel hernandez   miguel  hernandez            14/08/2013  Male   \n",
       "1  2.0  miguel hernandez   miguel  hernandez            14/08/2013  Male   \n",
       "2  3.0      michael ryan  michael       ryan            31/12/2014  Male   \n",
       "3  4.0       kevon dixon    kevon      dixon            27/01/2013  Male   \n",
       "4  5.0          ed philo       ed      philo            14/04/2013  Male   \n",
       "\n",
       "          dob  age          age_cat              race  ...  \\\n",
       "0  18/04/1947   69  Greater than 45             Other  ...   \n",
       "1  18/04/1947   69  Greater than 45             Other  ...   \n",
       "2  06/02/1985   31          25 - 45         Caucasian  ...   \n",
       "3  22/01/1982   34          25 - 45  African-American  ...   \n",
       "4  14/05/1991   24     Less than 25  African-American  ...   \n",
       "\n",
       "   v_type_of_assessment  v_decile_score  v_score_text  v_screening_date  \\\n",
       "0      Risk of Violence               1           Low        14/08/2013   \n",
       "1      Risk of Violence               1           Low        14/08/2013   \n",
       "2      Risk of Violence               2           Low        31/12/2014   \n",
       "3      Risk of Violence               1           Low        27/01/2013   \n",
       "4      Risk of Violence               3           Low        14/04/2013   \n",
       "\n",
       "   in_custody  out_custody priors_count.1 start  end event  \n",
       "0  07/07/2014   14/07/2014              0     0  327     0  \n",
       "1  07/07/2014   14/07/2014              0   334  961     0  \n",
       "2  30/12/2014   03/01/2015              0     3  457     0  \n",
       "3  26/01/2013   05/02/2013              0     9  159     1  \n",
       "4  16/06/2013   16/06/2013              4     0   63     0  \n",
       "\n",
       "[5 rows x 52 columns]"
      ]
     },
     "execution_count": 22,
     "metadata": {},
     "output_type": "execute_result"
    }
   ],
   "source": [
    "print (type(adult))\n",
    "adult.head()"
   ]
  },
  {
   "cell_type": "markdown",
   "id": "e6084881",
   "metadata": {},
   "source": [
    "# dob + laplace"
   ]
  },
  {
   "cell_type": "code",
   "execution_count": 68,
   "id": "02fa157b",
   "metadata": {
    "scrolled": false
   },
   "outputs": [],
   "source": [
    "# print(adult.shape)\n",
    "# display(adult.columns)"
   ]
  },
  {
   "cell_type": "code",
   "execution_count": 23,
   "id": "1a7c68ac",
   "metadata": {},
   "outputs": [],
   "source": [
    "epsilon = 1.0"
   ]
  },
  {
   "cell_type": "code",
   "execution_count": 24,
   "id": "87b9aecb",
   "metadata": {
    "scrolled": true
   },
   "outputs": [
    {
     "data": {
      "text/plain": [
       "3240"
      ]
     },
     "execution_count": 24,
     "metadata": {},
     "output_type": "execute_result"
    }
   ],
   "source": [
    "def dob_sum():\n",
    "    return np.sum(adult['dob'].value_counts() == 1) ## uniquely identified by their age\n",
    "dob_sum()"
   ]
  },
  {
   "cell_type": "code",
   "execution_count": 25,
   "id": "962dcb91",
   "metadata": {},
   "outputs": [
    {
     "data": {
      "text/plain": [
       "21/11/1991    21\n",
       "10/11/1988    17\n",
       "28/04/1992    15\n",
       "13/08/1994    15\n",
       "16/10/1983    14\n",
       "              ..\n",
       "25/03/1984     1\n",
       "19/04/1954     1\n",
       "15/02/1976     1\n",
       "23/09/1985     1\n",
       "13/06/1971     1\n",
       "Name: dob, Length: 7485, dtype: int64"
      ]
     },
     "execution_count": 25,
     "metadata": {},
     "output_type": "execute_result"
    }
   ],
   "source": [
    "def dob_hist():\n",
    "    return  adult['dob'].value_counts()\n",
    "dob_hist()"
   ]
  },
  {
   "cell_type": "code",
   "execution_count": 26,
   "id": "e462f07a",
   "metadata": {},
   "outputs": [
    {
     "data": {
      "text/plain": [
       "21/11/1991    17.096817\n",
       "10/11/1988    17.822079\n",
       "28/04/1992    14.738579\n",
       "13/08/1994    13.317947\n",
       "16/10/1983    11.667165\n",
       "                ...    \n",
       "25/03/1984    -0.223739\n",
       "19/04/1954     3.265226\n",
       "15/02/1976     0.804344\n",
       "23/09/1985     0.717240\n",
       "13/06/1971    -1.116735\n",
       "Name: dob, Length: 7485, dtype: float64"
      ]
     },
     "execution_count": 26,
     "metadata": {},
     "output_type": "execute_result"
    }
   ],
   "source": [
    "def dp_dob_hist(epsilon):\n",
    "    return dob_hist().apply(lambda x: laplace_mech(x,1,epsilon))  ## total privacy cost is epsilon, by parallel composition\n",
    "dp_dob_hist(epsilon)"
   ]
  },
  {
   "cell_type": "code",
   "execution_count": 14,
   "id": "c0e14967",
   "metadata": {
    "scrolled": true
   },
   "outputs": [
    {
     "name": "stdout",
     "output_type": "stream",
     "text": [
      "21/11/1991      2.929169\n",
      "10/11/1988      2.749373\n",
      "28/04/1992     12.984403\n",
      "13/08/1994     14.371329\n",
      "27/04/1989      1.022228\n",
      "                 ...    \n",
      "28/07/1962     35.810052\n",
      "14/01/1963    278.729076\n",
      "22/01/1966    182.181547\n",
      "06/10/1964     47.748760\n",
      "17/09/1980    288.419303\n",
      "Name: dob, Length: 7485, dtype: float64\n"
     ]
    }
   ],
   "source": [
    "# def dp_crosstab_education_sex(epsilon):\n",
    "#     ct = pd.crosstab(adult['dob'], adult['race'])\n",
    "#     return ct.applymap(lambda x: laplace_mech(x, 1, epsilon))\n",
    "\n",
    "# dp_crosstab_education_sex(1.0)\n",
    "\n",
    "print (pct_error(dob_hist(),dp_dob_hist(epsilon)))   #percentage error"
   ]
  },
  {
   "cell_type": "markdown",
   "id": "9e9a8d5d",
   "metadata": {},
   "source": [
    "# # age + laplace"
   ]
  },
  {
   "cell_type": "code",
   "execution_count": 55,
   "id": "76a4301d",
   "metadata": {},
   "outputs": [
    {
     "data": {
      "text/plain": [
       "22    914.908986\n",
       "26    911.379515\n",
       "24    910.438248\n",
       "21    899.889828\n",
       "25    888.795602\n",
       "         ...    \n",
       "78      0.642565\n",
       "83      2.418694\n",
       "96      2.630015\n",
       "80      1.535264\n",
       "79      0.415801\n",
       "Name: age, Length: 65, dtype: float64"
      ]
     },
     "execution_count": 55,
     "metadata": {},
     "output_type": "execute_result"
    }
   ],
   "source": [
    "def age_hist():\n",
    "    return  adult['age'].value_counts()\n",
    "age_hist() \n",
    "# age + laplace\n",
    "def dp_age_hist(epsilon):\n",
    "    return age_hist().apply(lambda x: laplace_mech(x,1,epsilon))  ## total privacy cost is epsilon, by parallel composition\n",
    "dp_age_hist(epsilon)"
   ]
  },
  {
   "cell_type": "code",
   "execution_count": 118,
   "id": "ae63016e",
   "metadata": {},
   "outputs": [
    {
     "data": {
      "text/plain": [
       "22    914.295248\n",
       "26    910.845071\n",
       "24    911.214475\n",
       "21    898.497141\n",
       "25    890.199375\n",
       "         ...    \n",
       "78      2.838247\n",
       "83      1.976059\n",
       "96      1.776140\n",
       "80      5.317843\n",
       "79      1.144874\n",
       "Name: age, Length: 65, dtype: float64"
      ]
     },
     "execution_count": 118,
     "metadata": {},
     "output_type": "execute_result"
    }
   ],
   "source": [
    "# age_clipped + laplace\n",
    "b=90 # age up to 90\n",
    "\n",
    "real_sum = adult['age'].sum()\n",
    "def clip_age():\n",
    "    clipped_age= adult['age'].clip(lower=0, upper=b).sum()\n",
    "    dp_clipped_age =  age_hist().apply(lambda x: laplace_mech(x,1,epsilon)) #sensitivity = 1\n",
    "    return (dp_clipped_age)\n",
    "clip_age()"
   ]
  },
  {
   "cell_type": "code",
   "execution_count": 120,
   "id": "8212ba18",
   "metadata": {},
   "outputs": [
    {
     "name": "stdout",
     "output_type": "stream",
     "text": [
      "22      0.039909\n",
      "26      0.010997\n",
      "24      0.105684\n",
      "21      0.051925\n",
      "25      0.052851\n",
      "         ...    \n",
      "78     19.035297\n",
      "83     59.526826\n",
      "96     20.119115\n",
      "80    100.223792\n",
      "79     30.647504\n",
      "Name: age, Length: 65, dtype: float64\n"
     ]
    }
   ],
   "source": [
    "print (pct_error(age_hist(),clip_age()))   #percentage error"
   ]
  },
  {
   "cell_type": "markdown",
   "id": "948b801c",
   "metadata": {},
   "source": [
    "# Compare laplace and Gaussian mechanism in a workload in 'age' set"
   ]
  },
  {
   "cell_type": "code",
   "execution_count": 60,
   "id": "82390962",
   "metadata": {},
   "outputs": [],
   "source": [
    "# Range Query\n",
    "\n",
    "def range_query(df, col, a, b):\n",
    "    return len(df[(df[col] >= a) & (df[col] < b)])\n",
    "\n",
    "random_lower_bounds = [random.randint(1, 70) for _ in range(100)]\n",
    "random_workload = [(lb, random.randint(lb, 100)) for lb in random_lower_bounds]\n",
    "real_answers_age = [range_query(adult, 'age', lb, ub) for (lb, ub) in random_workload]\n",
    "real_answers_start = [range_query(adult, 'start', lb, ub) for (lb, ub) in random_workload]"
   ]
  },
  {
   "cell_type": "code",
   "execution_count": 77,
   "id": "da1b7656",
   "metadata": {},
   "outputs": [
    {
     "name": "stdout",
     "output_type": "stream",
     "text": [
      "First 4 answers: [17852.406735389184, 5089.391032043011, 14114.416543987554, 12324.97410524247]\n",
      "Average absolute error: 111.79698391384326\n"
     ]
    }
   ],
   "source": [
    "def workload_laplace(workload, epsilon):\n",
    "    ans_list = []\n",
    "    for work in workload:\n",
    "        a, b = work\n",
    "        range = range_query(adult, 'age', a, b)\n",
    "        noised = laplace_mech(range, len(workload), epsilon)\n",
    "        ans_list.append(noised)\n",
    "    return ans_list\n",
    "print('First 4 answers:', workload_laplace(random_workload, 1.0)[:4])\n",
    "errors = [abs(r_a - l_a) for (r_a, l_a) in zip(real_answers_age, workload_laplace(random_workload, 1.0))]\n",
    "print('Average absolute error:', np.mean(errors))"
   ]
  },
  {
   "cell_type": "code",
   "execution_count": 79,
   "id": "705330a0",
   "metadata": {},
   "outputs": [
    {
     "name": "stdout",
     "output_type": "stream",
     "text": [
      "First 4 answers: [18350.978392087225, 5366.393237028066, 14138.585395010643, 12210.685270701535]\n",
      "Average absolute error: 96.88955177890185\n"
     ]
    }
   ],
   "source": [
    "def workload_laplace_vec(workload, epsilon):\n",
    "    ans_list = []\n",
    "    L1_GS = len(workload)\n",
    "    range = [range_query(adult, 'age', work[0], work[1]) for work in workload]\n",
    "    \n",
    "    noise = laplace_mech_vec(range, L1_GS, epsilon)\n",
    "    return noise\n",
    "print('First 4 answers:', workload_laplace_vec(random_workload, 1.0)[:4])\n",
    "errors = [abs(r_a - l_a) for (r_a, l_a) in zip(real_answers_age, workload_laplace_vec(random_workload, 1.0))]\n",
    "print('Average absolute error:', np.mean(errors))"
   ]
  },
  {
   "cell_type": "code",
   "execution_count": 87,
   "id": "a4ee3706",
   "metadata": {},
   "outputs": [
    {
     "name": "stdout",
     "output_type": "stream",
     "text": [
      "First 4 answers: [18052.45166833329, 5112.881558247237, 14159.328050693126, 12208.382071446595]\n",
      "Average absolute error: 38.94582569525386\n"
     ]
    }
   ],
   "source": [
    "def workload_gaussian_vec(workload, epsilon, delta):\n",
    "    ans_list = []\n",
    "    L2 = math.sqrt(len(workload))\n",
    "    rdp = [range_query(adult, 'age', work[0], work[1]) for work in workload]\n",
    "    \n",
    "    noise = gaussian_mech_vec(rdp, L2, epsilon, delta)\n",
    "    return noise\n",
    "print('First 4 answers:', workload_gaussian_vec(random_workload, 1.0, 1e-5)[:4])\n",
    "errors = [abs(r_a - l_a) for (r_a, l_a) in zip(real_answers_age, workload_gaussian_vec(random_workload, 1.0, 1e-5))]\n",
    "print('Average absolute error:', np.mean(errors))"
   ]
  },
  {
   "cell_type": "markdown",
   "id": "7d9d9f0a",
   "metadata": {},
   "source": [
    "# # Compare laplace and Gaussian mechanism in a workload in 'start' set\n"
   ]
  },
  {
   "cell_type": "code",
   "execution_count": 83,
   "id": "9e0b1242",
   "metadata": {},
   "outputs": [
    {
     "name": "stdout",
     "output_type": "stream",
     "text": [
      "First 4 answers: [1263.1646049304245, 217.92383365041783, 714.8487421851632, 1497.2123814521242]\n",
      "Average absolute error: 86.42926870125879\n"
     ]
    }
   ],
   "source": [
    "def workload_laplace2(workload, epsilon):\n",
    "    ans_list = []\n",
    "    for work in workload:\n",
    "        a, b = work\n",
    "        range = range_query(adult, 'start', a, b)\n",
    "        noised = laplace_mech(range, len(workload), epsilon)\n",
    "        ans_list.append(noised)\n",
    "    return ans_list\n",
    "print('First 4 answers:', workload_laplace2(random_workload, 1.0)[:4])\n",
    "errors = [abs(r_a - l_a) for (r_a, l_a) in zip(real_answers_start, workload_laplace2(random_workload, 1.0))]\n",
    "print('Average absolute error:', np.mean(errors))"
   ]
  },
  {
   "cell_type": "code",
   "execution_count": 81,
   "id": "90b8054a",
   "metadata": {},
   "outputs": [
    {
     "name": "stdout",
     "output_type": "stream",
     "text": [
      "First 4 answers: [1411.21745102895, 117.59281811084422, 850.1828334436161, 1447.5590789578578]\n",
      "Average absolute error: 99.90407772917624\n"
     ]
    }
   ],
   "source": [
    "def workload_laplace_vec2(workload, epsilon):\n",
    "    ans_list = []\n",
    "    L1_GS = len(workload)\n",
    "    range = [range_query(adult, 'start', work[0], work[1]) for work in workload]\n",
    "    \n",
    "    noise = laplace_mech_vec(range, L1_GS, epsilon)\n",
    "    return noise\n",
    "print('First 4 answers:', workload_laplace_vec2(random_workload, 1.0)[:4])\n",
    "errors = [abs(r_a - l_a) for (r_a, l_a) in zip(real_answers_start, workload_laplace_vec2(random_workload, 1.0))]\n",
    "print('Average absolute error:', np.mean(errors))"
   ]
  },
  {
   "cell_type": "code",
   "execution_count": 86,
   "id": "cb7e4233",
   "metadata": {},
   "outputs": [
    {
     "name": "stdout",
     "output_type": "stream",
     "text": [
      "First 4 answers: [1352.9873991165, 282.9076160114672, 749.6842111886693, 1468.5534114422035]\n",
      "Average absolute error: 36.60416552098758\n"
     ]
    }
   ],
   "source": [
    "def workload_gaussian_vec2(workload, epsilon, delta):\n",
    "    ans_list = []\n",
    "    L2 = math.sqrt(len(workload))\n",
    "    rdp = [range_query(adult, 'start', work[0], work[1]) for work in workload]\n",
    "    \n",
    "    noise = gaussian_mech_vec(rdp, L2, epsilon, delta)\n",
    "    return noise\n",
    "print('First 4 answers:', workload_gaussian_vec2(random_workload, 1.0, 1e-5)[:4])\n",
    "errors = [abs(r_a - l_a) for (r_a, l_a) in zip(real_answers_start, workload_gaussian_vec2(random_workload, 1.0, 1e-5))]\n",
    "print('Average absolute error:', np.mean(errors))"
   ]
  },
  {
   "cell_type": "markdown",
   "id": "8564600f",
   "metadata": {},
   "source": [
    "- Workload_laplace uses sequential composition, and Work_load_laplace_Vec uses L1 sensitivitity. So their accuracy are about the same. \n",
    "- Workload_gaussian_vec are the most accurate because it uses L2 sensitivity.\n"
   ]
  }
 ],
 "metadata": {
  "kernelspec": {
   "display_name": "Python 3",
   "language": "python",
   "name": "python3"
  },
  "language_info": {
   "codemirror_mode": {
    "name": "ipython",
    "version": 3
   },
   "file_extension": ".py",
   "mimetype": "text/x-python",
   "name": "python",
   "nbconvert_exporter": "python",
   "pygments_lexer": "ipython3",
   "version": "3.8.8"
  }
 },
 "nbformat": 4,
 "nbformat_minor": 5
}
