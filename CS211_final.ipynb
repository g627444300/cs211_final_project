{
 "cells": [
  {
   "cell_type": "markdown",
   "id": "a800320f",
   "metadata": {},
   "source": [
    "# CS211: Data Privacy - Final Project\n",
    "## Haoyuan Pang, Chongqing Gao, Ke Tian"
   ]
  },
  {
   "cell_type": "code",
   "execution_count": 6,
   "id": "afdbe95b",
   "metadata": {},
   "outputs": [],
   "source": [
    "# Load the data and libraries\n",
    "import pandas as pd\n",
    "import numpy as np\n",
    "import random\n",
    "from datetime import datetime\n",
    "\n",
    "from scipy import stats\n",
    "import matplotlib.pyplot as plt\n",
    "plt.style.use('seaborn-whitegrid')\n",
    "\n",
    "def laplace_mech(v, sensitivity, epsilon):\n",
    "    return v + np.random.laplace(loc=0, scale=sensitivity / epsilon)\n",
    "\n",
    "def laplace_mech_vec(vec, sensitivity, epsilon):\n",
    "    return [v + np.random.laplace(loc=0, scale=sensitivity / epsilon) for v in vec]\n",
    "\n",
    "def gaussian_mech(v, sensitivity, epsilon, delta):\n",
    "    return v + np.random.normal(loc=0, scale=sensitivity * np.sqrt(2*np.log(1.25/delta)) / epsilon)\n",
    "\n",
    "def gaussian_mech_vec(vec, sensitivity, epsilon, delta):\n",
    "    return [v + np.random.normal(loc=0, scale=sensitivity * np.sqrt(2*np.log(1.25/delta)) / epsilon)\n",
    "            for v in vec]\n",
    "\n",
    "def gaussian_mech_RDP_vec(vec, sensitivity, alpha, epsilon):\n",
    "    sigma = np.sqrt((sensitivity**2 * alpha) / (2 * epsilon))\n",
    "    return [v + np.random.normal(loc=0, scale=sigma) for v in vec]\n",
    "\n",
    "def pct_error(orig, priv):\n",
    "    return np.abs(orig - priv)/orig * 100.0\n",
    "\n",
    "# compas_scores_raw = pd.read_csv('https://raw.github.com/g627444300/cs211-final_project/main/compas-scores-raw.csv')\n",
    "\n",
    "adult = pd.read_csv('https://raw.github.com/g627444300/cs211-final_project/main/cox-violent-parsed.csv')\n",
    "\n",
    "# cox_violent_parsed_filt = pd.read_csv('https://raw.github.com/g627444300/cs211-final_project/main/cox-violent-parsed_filt.csv')\n",
    "\n",
    "# df = pd.read_csv('https://raw.github.com/g627444300/cs211-final_project/main/propublica_data_for_fairml.csv')"
   ]
  },
  {
   "cell_type": "code",
   "execution_count": 7,
   "id": "ef40fb64",
   "metadata": {
    "scrolled": true
   },
   "outputs": [
    {
     "name": "stdout",
     "output_type": "stream",
     "text": [
      "<class 'pandas.core.frame.DataFrame'>\n"
     ]
    },
    {
     "data": {
      "text/html": [
       "<div>\n",
       "<style scoped>\n",
       "    .dataframe tbody tr th:only-of-type {\n",
       "        vertical-align: middle;\n",
       "    }\n",
       "\n",
       "    .dataframe tbody tr th {\n",
       "        vertical-align: top;\n",
       "    }\n",
       "\n",
       "    .dataframe thead th {\n",
       "        text-align: right;\n",
       "    }\n",
       "</style>\n",
       "<table border=\"1\" class=\"dataframe\">\n",
       "  <thead>\n",
       "    <tr style=\"text-align: right;\">\n",
       "      <th></th>\n",
       "      <th>id</th>\n",
       "      <th>name</th>\n",
       "      <th>first</th>\n",
       "      <th>last</th>\n",
       "      <th>compas_screening_date</th>\n",
       "      <th>sex</th>\n",
       "      <th>dob</th>\n",
       "      <th>age</th>\n",
       "      <th>age_cat</th>\n",
       "      <th>race</th>\n",
       "      <th>...</th>\n",
       "      <th>v_type_of_assessment</th>\n",
       "      <th>v_decile_score</th>\n",
       "      <th>v_score_text</th>\n",
       "      <th>v_screening_date</th>\n",
       "      <th>in_custody</th>\n",
       "      <th>out_custody</th>\n",
       "      <th>priors_count.1</th>\n",
       "      <th>start</th>\n",
       "      <th>end</th>\n",
       "      <th>event</th>\n",
       "    </tr>\n",
       "  </thead>\n",
       "  <tbody>\n",
       "    <tr>\n",
       "      <th>0</th>\n",
       "      <td>1.0</td>\n",
       "      <td>miguel hernandez</td>\n",
       "      <td>miguel</td>\n",
       "      <td>hernandez</td>\n",
       "      <td>14/08/2013</td>\n",
       "      <td>Male</td>\n",
       "      <td>18/04/1947</td>\n",
       "      <td>69</td>\n",
       "      <td>Greater than 45</td>\n",
       "      <td>Other</td>\n",
       "      <td>...</td>\n",
       "      <td>Risk of Violence</td>\n",
       "      <td>1</td>\n",
       "      <td>Low</td>\n",
       "      <td>14/08/2013</td>\n",
       "      <td>07/07/2014</td>\n",
       "      <td>14/07/2014</td>\n",
       "      <td>0</td>\n",
       "      <td>0</td>\n",
       "      <td>327</td>\n",
       "      <td>0</td>\n",
       "    </tr>\n",
       "    <tr>\n",
       "      <th>1</th>\n",
       "      <td>2.0</td>\n",
       "      <td>miguel hernandez</td>\n",
       "      <td>miguel</td>\n",
       "      <td>hernandez</td>\n",
       "      <td>14/08/2013</td>\n",
       "      <td>Male</td>\n",
       "      <td>18/04/1947</td>\n",
       "      <td>69</td>\n",
       "      <td>Greater than 45</td>\n",
       "      <td>Other</td>\n",
       "      <td>...</td>\n",
       "      <td>Risk of Violence</td>\n",
       "      <td>1</td>\n",
       "      <td>Low</td>\n",
       "      <td>14/08/2013</td>\n",
       "      <td>07/07/2014</td>\n",
       "      <td>14/07/2014</td>\n",
       "      <td>0</td>\n",
       "      <td>334</td>\n",
       "      <td>961</td>\n",
       "      <td>0</td>\n",
       "    </tr>\n",
       "    <tr>\n",
       "      <th>2</th>\n",
       "      <td>3.0</td>\n",
       "      <td>michael ryan</td>\n",
       "      <td>michael</td>\n",
       "      <td>ryan</td>\n",
       "      <td>31/12/2014</td>\n",
       "      <td>Male</td>\n",
       "      <td>06/02/1985</td>\n",
       "      <td>31</td>\n",
       "      <td>25 - 45</td>\n",
       "      <td>Caucasian</td>\n",
       "      <td>...</td>\n",
       "      <td>Risk of Violence</td>\n",
       "      <td>2</td>\n",
       "      <td>Low</td>\n",
       "      <td>31/12/2014</td>\n",
       "      <td>30/12/2014</td>\n",
       "      <td>03/01/2015</td>\n",
       "      <td>0</td>\n",
       "      <td>3</td>\n",
       "      <td>457</td>\n",
       "      <td>0</td>\n",
       "    </tr>\n",
       "    <tr>\n",
       "      <th>3</th>\n",
       "      <td>4.0</td>\n",
       "      <td>kevon dixon</td>\n",
       "      <td>kevon</td>\n",
       "      <td>dixon</td>\n",
       "      <td>27/01/2013</td>\n",
       "      <td>Male</td>\n",
       "      <td>22/01/1982</td>\n",
       "      <td>34</td>\n",
       "      <td>25 - 45</td>\n",
       "      <td>African-American</td>\n",
       "      <td>...</td>\n",
       "      <td>Risk of Violence</td>\n",
       "      <td>1</td>\n",
       "      <td>Low</td>\n",
       "      <td>27/01/2013</td>\n",
       "      <td>26/01/2013</td>\n",
       "      <td>05/02/2013</td>\n",
       "      <td>0</td>\n",
       "      <td>9</td>\n",
       "      <td>159</td>\n",
       "      <td>1</td>\n",
       "    </tr>\n",
       "    <tr>\n",
       "      <th>4</th>\n",
       "      <td>5.0</td>\n",
       "      <td>ed philo</td>\n",
       "      <td>ed</td>\n",
       "      <td>philo</td>\n",
       "      <td>14/04/2013</td>\n",
       "      <td>Male</td>\n",
       "      <td>14/05/1991</td>\n",
       "      <td>24</td>\n",
       "      <td>Less than 25</td>\n",
       "      <td>African-American</td>\n",
       "      <td>...</td>\n",
       "      <td>Risk of Violence</td>\n",
       "      <td>3</td>\n",
       "      <td>Low</td>\n",
       "      <td>14/04/2013</td>\n",
       "      <td>16/06/2013</td>\n",
       "      <td>16/06/2013</td>\n",
       "      <td>4</td>\n",
       "      <td>0</td>\n",
       "      <td>63</td>\n",
       "      <td>0</td>\n",
       "    </tr>\n",
       "  </tbody>\n",
       "</table>\n",
       "<p>5 rows × 52 columns</p>\n",
       "</div>"
      ],
      "text/plain": [
       "    id              name    first       last compas_screening_date   sex  \\\n",
       "0  1.0  miguel hernandez   miguel  hernandez            14/08/2013  Male   \n",
       "1  2.0  miguel hernandez   miguel  hernandez            14/08/2013  Male   \n",
       "2  3.0      michael ryan  michael       ryan            31/12/2014  Male   \n",
       "3  4.0       kevon dixon    kevon      dixon            27/01/2013  Male   \n",
       "4  5.0          ed philo       ed      philo            14/04/2013  Male   \n",
       "\n",
       "          dob  age          age_cat              race  ...  \\\n",
       "0  18/04/1947   69  Greater than 45             Other  ...   \n",
       "1  18/04/1947   69  Greater than 45             Other  ...   \n",
       "2  06/02/1985   31          25 - 45         Caucasian  ...   \n",
       "3  22/01/1982   34          25 - 45  African-American  ...   \n",
       "4  14/05/1991   24     Less than 25  African-American  ...   \n",
       "\n",
       "   v_type_of_assessment  v_decile_score  v_score_text  v_screening_date  \\\n",
       "0      Risk of Violence               1           Low        14/08/2013   \n",
       "1      Risk of Violence               1           Low        14/08/2013   \n",
       "2      Risk of Violence               2           Low        31/12/2014   \n",
       "3      Risk of Violence               1           Low        27/01/2013   \n",
       "4      Risk of Violence               3           Low        14/04/2013   \n",
       "\n",
       "   in_custody  out_custody priors_count.1 start  end event  \n",
       "0  07/07/2014   14/07/2014              0     0  327     0  \n",
       "1  07/07/2014   14/07/2014              0   334  961     0  \n",
       "2  30/12/2014   03/01/2015              0     3  457     0  \n",
       "3  26/01/2013   05/02/2013              0     9  159     1  \n",
       "4  16/06/2013   16/06/2013              4     0   63     0  \n",
       "\n",
       "[5 rows x 52 columns]"
      ]
     },
     "execution_count": 7,
     "metadata": {},
     "output_type": "execute_result"
    }
   ],
   "source": [
    "print (type(adult))\n",
    "adult.head()"
   ]
  },
  {
   "cell_type": "code",
   "execution_count": 68,
   "id": "02fa157b",
   "metadata": {
    "scrolled": false
   },
   "outputs": [],
   "source": [
    "# print(adult.shape)\n",
    "# display(adult.columns)"
   ]
  },
  {
   "cell_type": "code",
   "execution_count": 8,
   "id": "1a7c68ac",
   "metadata": {},
   "outputs": [],
   "source": [
    "epsilon = 1.0"
   ]
  },
  {
   "cell_type": "code",
   "execution_count": 9,
   "id": "87b9aecb",
   "metadata": {
    "scrolled": true
   },
   "outputs": [
    {
     "data": {
      "text/plain": [
       "3240"
      ]
     },
     "execution_count": 9,
     "metadata": {},
     "output_type": "execute_result"
    }
   ],
   "source": [
    "def dob_sum():\n",
    "    return np.sum(adult['dob'].value_counts() == 1) ## uniquely identified by their age\n",
    "dob_sum()"
   ]
  },
  {
   "cell_type": "code",
   "execution_count": 10,
   "id": "962dcb91",
   "metadata": {},
   "outputs": [
    {
     "data": {
      "text/plain": [
       "21/11/1991    21\n",
       "10/11/1988    17\n",
       "28/04/1992    15\n",
       "13/08/1994    15\n",
       "27/04/1989    14\n",
       "              ..\n",
       "28/07/1962     1\n",
       "14/01/1963     1\n",
       "22/01/1966     1\n",
       "06/10/1964     1\n",
       "17/09/1980     1\n",
       "Name: dob, Length: 7485, dtype: int64"
      ]
     },
     "execution_count": 10,
     "metadata": {},
     "output_type": "execute_result"
    }
   ],
   "source": [
    "def dob_hist():\n",
    "    return  adult['dob'].value_counts()\n",
    "dob_hist()"
   ]
  },
  {
   "cell_type": "code",
   "execution_count": 11,
   "id": "e462f07a",
   "metadata": {},
   "outputs": [
    {
     "data": {
      "text/plain": [
       "21/11/1991    21.302139\n",
       "10/11/1988    20.833655\n",
       "28/04/1992    15.478421\n",
       "13/08/1994    15.203788\n",
       "27/04/1989    14.011664\n",
       "                ...    \n",
       "28/07/1962     1.182656\n",
       "14/01/1963    -0.173085\n",
       "22/01/1966     2.482704\n",
       "06/10/1964     1.429896\n",
       "17/09/1980    -2.635249\n",
       "Name: dob, Length: 7485, dtype: float64"
      ]
     },
     "execution_count": 11,
     "metadata": {},
     "output_type": "execute_result"
    }
   ],
   "source": [
    "def dp_dob_hist(epsilon):\n",
    "    return dob_hist().apply(lambda x: laplace_mech(x,1,epsilon))  ## total privacy cost is epsilon, by parallel composition\n",
    "dp_dob_hist(epsilon)"
   ]
  },
  {
   "cell_type": "code",
   "execution_count": 14,
   "id": "c0e14967",
   "metadata": {
    "scrolled": true
   },
   "outputs": [
    {
     "name": "stdout",
     "output_type": "stream",
     "text": [
      "21/11/1991      2.929169\n",
      "10/11/1988      2.749373\n",
      "28/04/1992     12.984403\n",
      "13/08/1994     14.371329\n",
      "27/04/1989      1.022228\n",
      "                 ...    \n",
      "28/07/1962     35.810052\n",
      "14/01/1963    278.729076\n",
      "22/01/1966    182.181547\n",
      "06/10/1964     47.748760\n",
      "17/09/1980    288.419303\n",
      "Name: dob, Length: 7485, dtype: float64\n"
     ]
    }
   ],
   "source": [
    "# def dp_crosstab_education_sex(epsilon):\n",
    "#     ct = pd.crosstab(adult['dob'], adult['race'])\n",
    "#     return ct.applymap(lambda x: laplace_mech(x, 1, epsilon))\n",
    "\n",
    "# dp_crosstab_education_sex(1.0)\n",
    "\n",
    "print (pct_error(dob_hist(),dp_dob_hist(epsilon)))   #percentage error"
   ]
  },
  {
   "cell_type": "markdown",
   "id": "1194bdf1",
   "metadata": {},
   "source": [
    "# # age + laplace"
   ]
  },
  {
   "cell_type": "code",
   "execution_count": 17,
   "id": "76a4301d",
   "metadata": {},
   "outputs": [
    {
     "data": {
      "text/plain": [
       "22    911.711218\n",
       "26    911.364596\n",
       "24    912.592541\n",
       "21    899.356342\n",
       "25    891.871366\n",
       "         ...    \n",
       "78      1.451481\n",
       "83      2.612226\n",
       "96      3.220700\n",
       "80      0.816031\n",
       "79      1.624139\n",
       "Name: age, Length: 65, dtype: float64"
      ]
     },
     "execution_count": 17,
     "metadata": {},
     "output_type": "execute_result"
    }
   ],
   "source": [
    "def age_hist():\n",
    "    return  adult['age'].value_counts()\n",
    "age_hist() \n",
    "# age + laplace\n",
    "def dp_age_hist(epsilon):\n",
    "    return age_hist().apply(lambda x: laplace_mech(x,1,epsilon))  ## total privacy cost is epsilon, by parallel composition\n",
    "dp_age_hist(epsilon)"
   ]
  },
  {
   "cell_type": "code",
   "execution_count": 47,
   "id": "ae63016e",
   "metadata": {},
   "outputs": [
    {
     "data": {
      "text/plain": [
       "22    915.057285\n",
       "26    906.636384\n",
       "24    909.813823\n",
       "21    898.002081\n",
       "25    890.672330\n",
       "         ...    \n",
       "78      1.262864\n",
       "83      3.378997\n",
       "96      2.380283\n",
       "80      1.125630\n",
       "79     -0.386954\n",
       "Name: age, Length: 65, dtype: float64"
      ]
     },
     "execution_count": 47,
     "metadata": {},
     "output_type": "execute_result"
    }
   ],
   "source": [
    "# age_clipped + laplace\n",
    "b=90 # age up to 90\n",
    "\n",
    "real_sum = adult['age'].sum()\n",
    "def clip_sum():\n",
    "    clipped_sum= adult['age'].clip(lower=0, upper=b).sum()\n",
    "    dp_clipped_sum =  age_hist().apply(lambda x: laplace_mech(x,1,epsilon)) #sensitivity = 0.1\n",
    "    return (dp_clipped_sum)\n",
    "clip_sum()"
   ]
  },
  {
   "cell_type": "code",
   "execution_count": 48,
   "id": "8212ba18",
   "metadata": {},
   "outputs": [
    {
     "name": "stdout",
     "output_type": "stream",
     "text": [
      "22      0.031469\n",
      "26      0.089396\n",
      "24      0.040686\n",
      "21      0.136537\n",
      "25      0.275431\n",
      "         ...    \n",
      "78     18.052080\n",
      "83     83.396201\n",
      "96      3.060180\n",
      "80    153.785961\n",
      "79     44.080214\n",
      "Name: age, Length: 65, dtype: float64\n"
     ]
    }
   ],
   "source": [
    "print (pct_error(age_hist(),clip_sum()))   #percentage error"
   ]
  }
 ],
 "metadata": {
  "kernelspec": {
   "display_name": "Python 3",
   "language": "python",
   "name": "python3"
  },
  "language_info": {
   "codemirror_mode": {
    "name": "ipython",
    "version": 3
   },
   "file_extension": ".py",
   "mimetype": "text/x-python",
   "name": "python",
   "nbconvert_exporter": "python",
   "pygments_lexer": "ipython3",
   "version": "3.8.8"
  }
 },
 "nbformat": 4,
 "nbformat_minor": 5
}
